{
 "cells": [
  {
   "cell_type": "markdown",
   "id": "1835a3a4",
   "metadata": {},
   "source": [
    "# 1. Action items for the toy problem"
   ]
  },
  {
   "cell_type": "code",
   "execution_count": 1,
   "id": "2e394225",
   "metadata": {},
   "outputs": [],
   "source": [
    "import pandas as pd"
   ]
  },
  {
   "cell_type": "code",
   "execution_count": 2,
   "id": "b741653c",
   "metadata": {},
   "outputs": [],
   "source": [
    "import numpy as np"
   ]
  },
  {
   "cell_type": "code",
   "execution_count": 23,
   "id": "664b91ad",
   "metadata": {},
   "outputs": [],
   "source": [
    "np.random.seed(42)\n",
    "n=200\n",
    "GPA = np.round(np.random.normal(3.0,0.5,n),2)\n",
    "majors = ['C.S','Maths','Economics','History']\n",
    "Major = np.random.choice(majors,n)\n",
    "Clubs = np.random.poisson(2,n)\n",
    "Attendance = np.round(np.random.uniform(50,100,n))\n",
    "\n",
    "#Combining all this into a DataFrame\n",
    "df = pd.DataFrame({\"GPA:\":GPA, \"Majors\":Major, \"Clubs\":Clubs,\"Attendance\":Attendance})"
   ]
  },
  {
   "cell_type": "code",
   "execution_count": 24,
   "id": "5adb237a",
   "metadata": {},
   "outputs": [
    {
     "name": "stdout",
     "output_type": "stream",
     "text": [
      "   GPA:   Majors  Clubs  Attendance  Dropout\n",
      "0  3.25    Maths      4        83.0        0\n",
      "1  2.93    Maths      0        91.0        0\n",
      "2  3.32      C.S      0        60.0        0\n",
      "3  3.76  History      0        51.0        0\n",
      "4  2.88      C.S      0        57.0        0\n"
     ]
    }
   ],
   "source": [
    "#Drpout rule based on gpa and attendance\n",
    "# '0' means not a dropout, '1' means dropout\n",
    "dropout_prob = (GPA<2.5) & (Attendance<70)\n",
    "Dropout = np.where(dropout_prob,1,0)\n",
    "df['Dropout']= Dropout\n",
    "print(df.head())"
   ]
  },
  {
   "cell_type": "code",
   "execution_count": 9,
   "id": "69654fa8",
   "metadata": {},
   "outputs": [
    {
     "name": "stdout",
     "output_type": "stream",
     "text": [
      "        GPA:  Clubs  Attendance:  Dropout\n",
      "count  200.0  200.0        200.0    200.0\n",
      "mean     3.0    2.0         76.0      0.0\n",
      "std      0.0    1.0         15.0      0.0\n",
      "min      2.0    0.0         51.0      0.0\n",
      "25%      3.0    1.0         62.0      0.0\n",
      "50%      3.0    2.0         76.0      0.0\n",
      "75%      3.0    3.0         89.0      0.0\n",
      "max      4.0    8.0        100.0      1.0 2\n"
     ]
    }
   ],
   "source": [
    "print(np.round(df.describe()),2)"
   ]
  },
  {
   "cell_type": "code",
   "execution_count": 11,
   "id": "c523507f",
   "metadata": {},
   "outputs": [
    {
     "name": "stdout",
     "output_type": "stream",
     "text": [
      "Dropout\n",
      "0    185\n",
      "1     15\n",
      "Name: count, dtype: int64\n"
     ]
    }
   ],
   "source": [
    "print(df['Dropout'].value_counts())"
   ]
  },
  {
   "cell_type": "code",
   "execution_count": 36,
   "id": "e26e6a91",
   "metadata": {},
   "outputs": [
    {
     "name": "stdout",
     "output_type": "stream",
     "text": [
      "             GPA:  Attendance     Clubs\n",
      "Dropout                                \n",
      "0        3.036811   76.929730  1.935135\n",
      "1        2.277333   60.666667  1.333333\n"
     ]
    }
   ],
   "source": [
    "print(df.groupby('Dropout')[['GPA:', 'Attendance', 'Clubs']].mean())\n"
   ]
  },
  {
   "cell_type": "code",
   "execution_count": 35,
   "id": "a9af287c",
   "metadata": {},
   "outputs": [
    {
     "name": "stdout",
     "output_type": "stream",
     "text": [
      "Majors\n",
      "C.S          0.040816\n",
      "Economics    0.125000\n",
      "History      0.089286\n",
      "Maths        0.054545\n",
      "Name: Dropout, dtype: float64\n"
     ]
    }
   ],
   "source": [
    "dropout_rate_by_major = df.groupby('Majors')['Dropout'].mean()\n",
    "print(dropout_rate_by_major)\n"
   ]
  },
  {
   "cell_type": "markdown",
   "id": "224bd5a3",
   "metadata": {},
   "source": [
    "#Summary and actions recommended:\n",
    "#Out of the sample of 200 students, dropout count is 15 students. Comparing the mean GPA,  Attendance and participation in clubs, we see that the dropout students have a lower value of all these parameters, compared to the non-dropouts. Categorizing by major, we see that Econ students are at the highest risk of dropout, followed by History. \n",
    "Certain actions might include - \n",
    "\n",
    "1. Integrating students by major into clubs related to their major that enhances hands-on and practical learning, \n",
    "exposing them to real-world applications, which might develop a better interest in their respecive majors.\n",
    "\n",
    "2. Since the number of dropouts is relatively lower, a one-to-one mentorship, attaching 2-3 students to one faculty\n",
    "and addressing their case-specific problems alongside taking feedback from them in return might help. More focus on these students through regulating a minimum attendance criteria at least 75-80% might help.\n",
    "\n",
    "3. Since highest dropout is in Economics and History, (in case these are getting monotonous) providing all students with electives that help them explore subjects in the other majors i.e., C.S and Maths, provides a analytical and quantitave touch to their learnings.\n"
   ]
  },
  {
   "cell_type": "markdown",
   "id": "dbfd893d",
   "metadata": {},
   "source": [
    "# 2. Restaurant Rating Patterns analysis"
   ]
  },
  {
   "cell_type": "code",
   "execution_count": 41,
   "id": "774507af",
   "metadata": {},
   "outputs": [
    {
     "name": "stdout",
     "output_type": "stream",
     "text": [
      "              Customer1  Customer2  Customer3  Customer4  Customer5  \\\n",
      "RestaurantID                                                          \n",
      "R1                    3          3          4          5          5   \n",
      "R2                    2          2          5          1          5   \n",
      "R3                    5          2          5          5          4   \n",
      "R4                    5          4          5          2          4   \n",
      "R5                    1          5          4          5          2   \n",
      "\n",
      "              Customer6  Customer7  Customer8  Customer9  Customer10  \n",
      "RestaurantID                                                          \n",
      "R1                    5          2          3          5           5  \n",
      "R2                    5          2          2          5           5  \n",
      "R3                    1          3          1          4           3  \n",
      "R4                    2          4          4          2           3  \n",
      "R5                    5          2          5          1           1  \n"
     ]
    }
   ],
   "source": [
    "n = 200  # number of restaurants\n",
    "customers_per_restaurant = 10 # number of customers per restaurant\n",
    "\n",
    "ratings = np.random.choice([1, 2, 3, 4, 5], size=(n, customers_per_restaurant))\n",
    "ratings_df = pd.DataFrame(ratings)\n",
    "ratings_df['RestaurantID'] = ['R' + str(i+1) for i in range(n)]\n",
    "ratings_df.set_index('RestaurantID', inplace=True)\n",
    "ratings_df.columns = [f'Customer{i+1}' for i in range(customers_per_restaurant)]\n",
    "print(ratings_df.head())\n"
   ]
  },
  {
   "cell_type": "code",
   "execution_count": null,
   "id": "ef1f647e",
   "metadata": {},
   "outputs": [
    {
     "name": "stdout",
     "output_type": "stream",
     "text": [
      "              Variance\n",
      "RestaurantID          \n",
      "R2            2.689809\n",
      "R5            3.090000\n",
      "R8            2.831572\n",
      "R61           3.000009\n",
      "R70           2.651476\n",
      "R71           2.846532\n",
      "R80           2.705198\n",
      "R89           2.867959\n",
      "R102          2.867959\n",
      "R106          3.051779\n",
      "R114          3.000009\n",
      "R117          2.705198\n",
      "R144          3.090000\n",
      "R149          3.621520\n",
      "R154          2.846532\n",
      "R156          2.705198\n",
      "R189          2.849300\n",
      "R193          2.705198\n",
      "R194          2.705198\n",
      "R196          2.705198\n"
     ]
    }
   ],
   "source": [
    "ratings_df['Variance'] = ratings_df.var(axis=1)\n",
    "# unusual variance is defined as those above 90th percentile of all variances, i.e., top 10% most inconsistent restauarants\n",
    "variance_threshold = ratings_df['Variance'].quantile(0.90)\n",
    "unusual_variance_restaurants = ratings_df[ratings_df['Variance'] > variance_threshold]\n",
    "print(unusual_variance_restaurants[['Variance']])"
   ]
  },
  {
   "cell_type": "code",
   "execution_count": 53,
   "id": "94503968",
   "metadata": {},
   "outputs": [
    {
     "data": {
      "image/png": "[encoded data removed]",
      "text/plain": [
       "<Figure size 1000x500 with 1 Axes>"
      ]
     },
     "metadata": {},
     "output_type": "display_data"
    },
    {
     "name": "stdout",
     "output_type": "stream",
     "text": [
      "Number of restaurants with unusually high variance: 20\n"
     ]
    }
   ],
   "source": [
    "import matplotlib.pyplot as plt\n",
    "\n",
    "plt.figure(figsize=(10, 5))\n",
    "plt.hist(ratings_df['Variance'], bins=20, color='skyblue', edgecolor='black')\n",
    "plt.axvline(variance_threshold, color='red', linestyle='--', label='90th Percentile Threshold')\n",
    "plt.title(\"Distribution of Variance in Restaurant Ratings\")\n",
    "plt.xlabel(\"Variance\")\n",
    "plt.ylabel(\"Number of Restaurants\")\n",
    "plt.legend()\n",
    "plt.grid(True)\n",
    "plt.show()\n",
    "\n",
    "print(f\"Number of restaurants with unusually high variance: {len(unusual_variance_restaurants)}\")\n"
   ]
  },
  {
   "cell_type": "markdown",
   "id": "6ac0d32a",
   "metadata": {},
   "source": [
    "# Analysis and actionable recommendations:\n",
    "The results above show that a variance roughly above 2.5 come under top 10 percent variance, i.e., their variance is unusually high. 20 restaurants have a high variance. The threshold line in the histogram above depicts the same. \n",
    "\n",
    "The finding implies that, more often than not, customers have extreme opinions about these restaurants, i.e., either as low as a 1 star or as high as 5 star is given.\n",
    "This possibly depicts inconsistency of the restaurant, with respect to their food quality, service, hospitality, hygiene etc. \n",
    "\n",
    "1. One plausible reason could be due to alloting different shifts to a set of employees across the week.\n",
    "For instance, say there's a well-performing team of staff that are assigned work on some days of the week while another shift of staff, that is relatively under-performing and less-attentive, works during the remaining days, giving rise to inconsitent service quality and hence the reviews.\n",
    "\n",
    "2. Another cause could be over-crowding of customers on particular days(maybe weekends), hence ensuring the same standard and quality becomes difficult. Customers turning up on these days end up giving lower ratings compared to those that visit on weekdays.\n",
    "\n",
    ">Some actionable recommendations could be:\n",
    "1. Regular review of customer experience: Each aspect of customer experience, i.e., regarding hospitality, food quality, hygiene, staff behaviour etc can be reviewed and constant reviews for improvement can be taken.\n",
    "\n",
    "2. A supervisor can be assigned to monitor the performance, adherence to service protocols and work of the employees.\n",
    "\n",
    "3. In case the problem lies with crowd management, part-time employees(full time hiring might increase the cost to the restaurant by a greater amount compared to part-time)can be employeed on these days of the week, to adequately manage the crowd and ensure time management."
   ]
  },
  {
   "cell_type": "markdown",
   "id": "1ecea8cb",
   "metadata": {},
   "source": []
  }
 ],
 "metadata": {
  "kernelspec": {
   "display_name": "Python 3",
   "language": "python",
   "name": "python3"
  },
  "language_info": {
   "codemirror_mode": {
    "name": "ipython",
    "version": 3
   },
   "file_extension": ".py",
   "mimetype": "text/x-python",
   "name": "python",
   "nbconvert_exporter": "python",
   "pygments_lexer": "ipython3",
   "version": "3.13.5"
  }
 },
 "nbformat": 4,
 "nbformat_minor": 5
}
